{
 "cells": [
  {
   "cell_type": "code",
   "execution_count": 25,
   "id": "b71e4090-4389-45f3-8db7-805759836f97",
   "metadata": {},
   "outputs": [
    {
     "data": {
      "text/html": [
       "<div>\n",
       "<style scoped>\n",
       "    .dataframe tbody tr th:only-of-type {\n",
       "        vertical-align: middle;\n",
       "    }\n",
       "\n",
       "    .dataframe tbody tr th {\n",
       "        vertical-align: top;\n",
       "    }\n",
       "\n",
       "    .dataframe thead th {\n",
       "        text-align: right;\n",
       "    }\n",
       "</style>\n",
       "<table border=\"1\" class=\"dataframe\">\n",
       "  <thead>\n",
       "    <tr style=\"text-align: right;\">\n",
       "      <th></th>\n",
       "      <th>InvoiceNo</th>\n",
       "      <th>StockCode</th>\n",
       "      <th>Description</th>\n",
       "      <th>Quantity</th>\n",
       "      <th>InvoiceDate</th>\n",
       "      <th>UnitPrice</th>\n",
       "      <th>CustomerID</th>\n",
       "      <th>Country</th>\n",
       "    </tr>\n",
       "  </thead>\n",
       "  <tbody>\n",
       "    <tr>\n",
       "      <th>0</th>\n",
       "      <td>536365</td>\n",
       "      <td>85123A</td>\n",
       "      <td>WHITE HANGING HEART T-LIGHT HOLDER</td>\n",
       "      <td>6</td>\n",
       "      <td>2010-12-01 08:26:00</td>\n",
       "      <td>2.55</td>\n",
       "      <td>17850.0</td>\n",
       "      <td>United Kingdom</td>\n",
       "    </tr>\n",
       "    <tr>\n",
       "      <th>1</th>\n",
       "      <td>536365</td>\n",
       "      <td>71053</td>\n",
       "      <td>WHITE METAL LANTERN</td>\n",
       "      <td>6</td>\n",
       "      <td>2010-12-01 08:26:00</td>\n",
       "      <td>3.39</td>\n",
       "      <td>17850.0</td>\n",
       "      <td>United Kingdom</td>\n",
       "    </tr>\n",
       "    <tr>\n",
       "      <th>2</th>\n",
       "      <td>536365</td>\n",
       "      <td>84406B</td>\n",
       "      <td>CREAM CUPID HEARTS COAT HANGER</td>\n",
       "      <td>8</td>\n",
       "      <td>2010-12-01 08:26:00</td>\n",
       "      <td>2.75</td>\n",
       "      <td>17850.0</td>\n",
       "      <td>United Kingdom</td>\n",
       "    </tr>\n",
       "    <tr>\n",
       "      <th>3</th>\n",
       "      <td>536365</td>\n",
       "      <td>84029G</td>\n",
       "      <td>KNITTED UNION FLAG HOT WATER BOTTLE</td>\n",
       "      <td>6</td>\n",
       "      <td>2010-12-01 08:26:00</td>\n",
       "      <td>3.39</td>\n",
       "      <td>17850.0</td>\n",
       "      <td>United Kingdom</td>\n",
       "    </tr>\n",
       "    <tr>\n",
       "      <th>4</th>\n",
       "      <td>536365</td>\n",
       "      <td>84029E</td>\n",
       "      <td>RED WOOLLY HOTTIE WHITE HEART.</td>\n",
       "      <td>6</td>\n",
       "      <td>2010-12-01 08:26:00</td>\n",
       "      <td>3.39</td>\n",
       "      <td>17850.0</td>\n",
       "      <td>United Kingdom</td>\n",
       "    </tr>\n",
       "  </tbody>\n",
       "</table>\n",
       "</div>"
      ],
      "text/plain": [
       "  InvoiceNo StockCode                          Description  Quantity  \\\n",
       "0    536365    85123A   WHITE HANGING HEART T-LIGHT HOLDER         6   \n",
       "1    536365     71053                  WHITE METAL LANTERN         6   \n",
       "2    536365    84406B       CREAM CUPID HEARTS COAT HANGER         8   \n",
       "3    536365    84029G  KNITTED UNION FLAG HOT WATER BOTTLE         6   \n",
       "4    536365    84029E       RED WOOLLY HOTTIE WHITE HEART.         6   \n",
       "\n",
       "          InvoiceDate  UnitPrice  CustomerID         Country  \n",
       "0 2010-12-01 08:26:00       2.55     17850.0  United Kingdom  \n",
       "1 2010-12-01 08:26:00       3.39     17850.0  United Kingdom  \n",
       "2 2010-12-01 08:26:00       2.75     17850.0  United Kingdom  \n",
       "3 2010-12-01 08:26:00       3.39     17850.0  United Kingdom  \n",
       "4 2010-12-01 08:26:00       3.39     17850.0  United Kingdom  "
      ]
     },
     "metadata": {},
     "output_type": "display_data"
    }
   ],
   "source": [
    "#Importing libraries\n",
    "import numpy as np \n",
    "import pandas as pd\n",
    "from IPython.display import display\n",
    "import matplotlib.pyplot as plt\n",
    "import seaborn as sns\n",
    "from sklearn.model_selection import train_test_split\n",
    "from sklearn.preprocessing import StandardScaler\n",
    "\n",
    "\n",
    "    \n",
    "#Import dataset\n",
    "df = pd.read_excel('Online Retail.xlsx')\n",
    "\n",
    "display(df.head())"
   ]
  },
  {
   "cell_type": "code",
   "execution_count": null,
   "id": "44edac6a",
   "metadata": {},
   "outputs": [],
   "source": []
  },
  {
   "cell_type": "code",
   "execution_count": 26,
   "id": "f63cd3bb-f239-47e1-bfb7-8de3b0658124",
   "metadata": {},
   "outputs": [
    {
     "name": "stdout",
     "output_type": "stream",
     "text": [
      "<class 'pandas.core.frame.DataFrame'>\n",
      "RangeIndex: 541909 entries, 0 to 541908\n",
      "Data columns (total 8 columns):\n",
      " #   Column       Non-Null Count   Dtype         \n",
      "---  ------       --------------   -----         \n",
      " 0   InvoiceNo    541909 non-null  object        \n",
      " 1   StockCode    541909 non-null  object        \n",
      " 2   Description  540455 non-null  object        \n",
      " 3   Quantity     541909 non-null  int64         \n",
      " 4   InvoiceDate  541909 non-null  datetime64[ns]\n",
      " 5   UnitPrice    541909 non-null  float64       \n",
      " 6   CustomerID   406829 non-null  float64       \n",
      " 7   Country      541909 non-null  object        \n",
      "dtypes: datetime64[ns](1), float64(2), int64(1), object(4)\n",
      "memory usage: 33.1+ MB\n"
     ]
    },
    {
     "data": {
      "text/plain": [
       "None"
      ]
     },
     "metadata": {},
     "output_type": "display_data"
    },
    {
     "data": {
      "text/html": [
       "<div>\n",
       "<style scoped>\n",
       "    .dataframe tbody tr th:only-of-type {\n",
       "        vertical-align: middle;\n",
       "    }\n",
       "\n",
       "    .dataframe tbody tr th {\n",
       "        vertical-align: top;\n",
       "    }\n",
       "\n",
       "    .dataframe thead th {\n",
       "        text-align: right;\n",
       "    }\n",
       "</style>\n",
       "<table border=\"1\" class=\"dataframe\">\n",
       "  <thead>\n",
       "    <tr style=\"text-align: right;\">\n",
       "      <th></th>\n",
       "      <th>count</th>\n",
       "      <th>mean</th>\n",
       "      <th>min</th>\n",
       "      <th>25%</th>\n",
       "      <th>50%</th>\n",
       "      <th>75%</th>\n",
       "      <th>max</th>\n",
       "      <th>std</th>\n",
       "    </tr>\n",
       "  </thead>\n",
       "  <tbody>\n",
       "    <tr>\n",
       "      <th>Quantity</th>\n",
       "      <td>541909.0</td>\n",
       "      <td>9.55225</td>\n",
       "      <td>-80995.0</td>\n",
       "      <td>1.0</td>\n",
       "      <td>3.0</td>\n",
       "      <td>10.0</td>\n",
       "      <td>80995.0</td>\n",
       "      <td>218.081158</td>\n",
       "    </tr>\n",
       "    <tr>\n",
       "      <th>InvoiceDate</th>\n",
       "      <td>541909</td>\n",
       "      <td>2011-07-04 13:34:57.156386048</td>\n",
       "      <td>2010-12-01 08:26:00</td>\n",
       "      <td>2011-03-28 11:34:00</td>\n",
       "      <td>2011-07-19 17:17:00</td>\n",
       "      <td>2011-10-19 11:27:00</td>\n",
       "      <td>2011-12-09 12:50:00</td>\n",
       "      <td>NaN</td>\n",
       "    </tr>\n",
       "    <tr>\n",
       "      <th>UnitPrice</th>\n",
       "      <td>541909.0</td>\n",
       "      <td>4.611114</td>\n",
       "      <td>-11062.06</td>\n",
       "      <td>1.25</td>\n",
       "      <td>2.08</td>\n",
       "      <td>4.13</td>\n",
       "      <td>38970.0</td>\n",
       "      <td>96.759853</td>\n",
       "    </tr>\n",
       "    <tr>\n",
       "      <th>CustomerID</th>\n",
       "      <td>406829.0</td>\n",
       "      <td>15287.69057</td>\n",
       "      <td>12346.0</td>\n",
       "      <td>13953.0</td>\n",
       "      <td>15152.0</td>\n",
       "      <td>16791.0</td>\n",
       "      <td>18287.0</td>\n",
       "      <td>1713.600303</td>\n",
       "    </tr>\n",
       "  </tbody>\n",
       "</table>\n",
       "</div>"
      ],
      "text/plain": [
       "                count                           mean                  min  \\\n",
       "Quantity     541909.0                        9.55225             -80995.0   \n",
       "InvoiceDate    541909  2011-07-04 13:34:57.156386048  2010-12-01 08:26:00   \n",
       "UnitPrice    541909.0                       4.611114            -11062.06   \n",
       "CustomerID   406829.0                    15287.69057              12346.0   \n",
       "\n",
       "                             25%                  50%                  75%  \\\n",
       "Quantity                     1.0                  3.0                 10.0   \n",
       "InvoiceDate  2011-03-28 11:34:00  2011-07-19 17:17:00  2011-10-19 11:27:00   \n",
       "UnitPrice                   1.25                 2.08                 4.13   \n",
       "CustomerID               13953.0              15152.0              16791.0   \n",
       "\n",
       "                             max          std  \n",
       "Quantity                 80995.0   218.081158  \n",
       "InvoiceDate  2011-12-09 12:50:00          NaN  \n",
       "UnitPrice                38970.0    96.759853  \n",
       "CustomerID               18287.0  1713.600303  "
      ]
     },
     "metadata": {},
     "output_type": "display_data"
    }
   ],
   "source": [
    "display(df.info())\n",
    "display(df.describe().T)"
   ]
  },
  {
   "cell_type": "code",
   "execution_count": 27,
   "id": "ebeb5cfa-73c8-4f54-8f48-91d8f778385d",
   "metadata": {},
   "outputs": [
    {
     "name": "stdout",
     "output_type": "stream",
     "text": [
      "       InvoiceNo StockCode                        Description  Quantity  \\\n",
      "517       536409     21866        UNION JACK FLAG LUGGAGE TAG         1   \n",
      "527       536409     22866      HAND WARMER SCOTTY DOG DESIGN         1   \n",
      "537       536409     22900    SET 2 TEA TOWELS I LOVE LONDON          1   \n",
      "539       536409     22111       SCOTTIE DOG HOT WATER BOTTLE         1   \n",
      "555       536412     22327  ROUND SNACK BOXES SET OF 4 SKULLS         1   \n",
      "...          ...       ...                                ...       ...   \n",
      "541675    581538     22068        BLACK PIRATE TREASURE CHEST         1   \n",
      "541689    581538     23318     BOX OF 6 MINI VINTAGE CRACKERS         1   \n",
      "541692    581538     22992             REVOLVER WOODEN RULER          1   \n",
      "541699    581538     22694                       WICKER STAR          1   \n",
      "541701    581538     23343       JUMBO BAG VINTAGE CHRISTMAS          1   \n",
      "\n",
      "               InvoiceDate  UnitPrice  CustomerID         Country  \n",
      "517    2010-12-01 11:45:00       1.25     17908.0  United Kingdom  \n",
      "527    2010-12-01 11:45:00       2.10     17908.0  United Kingdom  \n",
      "537    2010-12-01 11:45:00       2.95     17908.0  United Kingdom  \n",
      "539    2010-12-01 11:45:00       4.95     17908.0  United Kingdom  \n",
      "555    2010-12-01 11:49:00       2.95     17920.0  United Kingdom  \n",
      "...                    ...        ...         ...             ...  \n",
      "541675 2011-12-09 11:34:00       0.39     14446.0  United Kingdom  \n",
      "541689 2011-12-09 11:34:00       2.49     14446.0  United Kingdom  \n",
      "541692 2011-12-09 11:34:00       1.95     14446.0  United Kingdom  \n",
      "541699 2011-12-09 11:34:00       2.10     14446.0  United Kingdom  \n",
      "541701 2011-12-09 11:34:00       2.08     14446.0  United Kingdom  \n",
      "\n",
      "[5268 rows x 8 columns]\n"
     ]
    }
   ],
   "source": [
    "duplicates = df[df.duplicated()]\n",
    "\n",
    "print(duplicates)"
   ]
  },
  {
   "cell_type": "code",
   "execution_count": 28,
   "id": "fba6d9d6",
   "metadata": {},
   "outputs": [
    {
     "name": "stdout",
     "output_type": "stream",
     "text": [
      "InvoiceNo           0\n",
      "StockCode           0\n",
      "Description      1454\n",
      "Quantity            0\n",
      "InvoiceDate         0\n",
      "UnitPrice           0\n",
      "CustomerID     135080\n",
      "Country             0\n",
      "dtype: int64\n"
     ]
    }
   ],
   "source": [
    "# Check for missing values\n",
    "print(df.isnull().sum())"
   ]
  },
  {
   "cell_type": "code",
   "execution_count": 29,
   "id": "d124c9c4-4fd4-4f26-8021-797d779e2aeb",
   "metadata": {},
   "outputs": [
    {
     "name": "stdout",
     "output_type": "stream",
     "text": [
      "['InvoiceNo', 'StockCode', 'Description', 'InvoiceDate', 'UnitPrice', 'CustomerID', 'Country']\n"
     ]
    }
   ],
   "source": [
    "# Get all column names\n",
    "all_variables = df.columns\n",
    "\n",
    "# Target variable\n",
    "output_variable = \"Quantity\"\n",
    "\n",
    "# Feature variables(all columns except the target) \n",
    "features = all_variables.drop(output_variable).to_list()\n",
    "\n",
    "print(features)\n"
   ]
  },
  {
   "cell_type": "code",
   "execution_count": 30,
   "id": "21c55342",
   "metadata": {},
   "outputs": [
    {
     "data": {
      "image/png": "[encoded data removed]",
      "text/plain": [
       "<Figure size 1200x1000 with 3 Axes>"
      ]
     },
     "metadata": {},
     "output_type": "display_data"
    }
   ],
   "source": [
    "# Histogram of numerical features\n",
    "numeric = df.select_dtypes(include='number').columns\n",
    "\n",
    "plots = len(numeric)\n",
    "rows = (plots // 2) + 1  \n",
    "plt.figure(figsize=(12, 5 * rows))\n",
    "for i, col in enumerate(numeric):\n",
    "    plt.subplot(rows, 2, i + 1)\n",
    "    sns.histplot(df[col], kde=True, bins=30)\n",
    "    plt.title(f'Distribution of {col}')\n",
    "    plt.xlabel(col)\n",
    "    plt.ylabel(\"Frequency\")\n",
    "\n",
    "plt.tight_layout()\n",
    "plt.show()"
   ]
  },
  {
   "cell_type": "code",
   "execution_count": 31,
   "id": "431b1258-432d-4758-bfaa-f44248aef805",
   "metadata": {},
   "outputs": [],
   "source": [
    "# Drop rows with missing CustomerID or Description\n",
    "df = df.dropna(subset=['CustomerID', 'Description'])\n",
    "\n",
    "# Remove returns or incorrect entries \n",
    "df = df[(df['Quantity'] > 0) & (df['UnitPrice'] > 0)]\n",
    "\n",
    "#Fix data type\n",
    "df['InvoiceDate'] = pd.to_datetime(df['InvoiceDate'])"
   ]
  },
  {
   "cell_type": "code",
   "execution_count": 32,
   "id": "fe2c68f5-4a68-47e1-9a80-a6132d7d8f3b",
   "metadata": {},
   "outputs": [
    {
     "name": "stdout",
     "output_type": "stream",
     "text": [
      "Index(['InvoiceNo', 'StockCode', 'Description', 'Quantity', 'InvoiceDate',\n",
      "       'UnitPrice', 'CustomerID', 'Country', 'InvoiceMonth', 'DayOfWeek',\n",
      "       'Hour', 'CountryCode', 'ProductCode'],\n",
      "      dtype='object')\n"
     ]
    }
   ],
   "source": [
    "#create new columns to split the invoice date\n",
    "df['InvoiceMonth'] = df['InvoiceDate'].dt.to_period('M')\n",
    "df['DayOfWeek'] = df['InvoiceDate'].dt.dayofweek\n",
    "df['Hour'] = df['InvoiceDate'].dt.hour\n",
    "\n",
    "# Convert text columns to category type \n",
    "df['Country'] = df['Country'].astype('category')\n",
    "df['StockCode'] = df['StockCode'].astype('category')\n",
    "\n",
    "# Turn category values into numbers \n",
    "df['CountryCode'] = df['Country'].cat.codes\n",
    "df['ProductCode'] = df['StockCode'].cat.codes\n",
    "\n",
    "print(df.columns)"
   ]
  },
  {
   "cell_type": "code",
   "execution_count": 33,
   "id": "239fc5a6",
   "metadata": {},
   "outputs": [],
   "source": [
    "# Scale UnitPrice and Quantity \n",
    "\n",
    "\n",
    "scaler = StandardScaler()\n",
    "df[['UnitPrice', 'Quantity']] = scaler.fit_transform(df[['UnitPrice', 'Quantity']])\n",
    "\n"
   ]
  },
  {
   "cell_type": "code",
   "execution_count": 34,
   "id": "8f633ed8",
   "metadata": {},
   "outputs": [],
   "source": [
    "#Input\n",
    "X = df[['ProductCode', 'UnitPrice', 'Hour', 'DayOfWeek', 'CountryCode']]\n",
    "\n",
    "#Target we want to predict \n",
    "y = df['Quantity']  \n",
    "\n",
    "# Training test split\n",
    "X_train, X_test, y_train, y_test = train_test_split(X, y, test_size=0.2, random_state=42)"
   ]
  },
  {
   "cell_type": "code",
   "execution_count": 40,
   "id": "ca09e149",
   "metadata": {},
   "outputs": [],
   "source": [
    "# Part 2: Model Building and Evaluation\n",
    "\n",
    "from sklearn.linear_model import LinearRegression\n",
    "from sklearn.ensemble import RandomForestRegressor\n",
    "from sklearn.svm import SVR\n",
    "from sklearn.model_selection import GridSearchCV\n",
    "from sklearn.metrics import r2_score, mean_squared_error\n",
    "\n",
    "# Initialize models\n",
    "lr_model = LinearRegression()\n",
    "rf_model = RandomForestRegressor(random_state=42)\n",
    "svm_model = SVR()\n",
    "\n",
    "# Hyperparameter tuning for Random Forest Regressor\n",
    "param_grid = {'n_estimators': [100, 200], 'max_depth': [None, 10]}\n",
    "grid_search = GridSearchCV(rf_model, param_grid, cv=5, scoring='r2')\n",
    "grid_search.fit(X_train, y_train)\n",
    "best_rf = grid_search.best_estimator_"
   ]
  },
  {
   "cell_type": "code",
   "execution_count": 43,
   "id": "19d06b2c",
   "metadata": {},
   "outputs": [
    {
     "name": "stdout",
     "output_type": "stream",
     "text": [
      "Model Performance on Test Set (Standardized Scale):\n",
      "Linear Regression - R2: 0.0051, MSE: 0.0567\n",
      "Random Forest - R2: 0.2459, MSE: 0.0430\n"
     ]
    }
   ],
   "source": [
    "from sklearn.metrics import r2_score, mean_squared_error\n",
    "\n",
    " # Train models\n",
    "lr_model.fit(X_train, y_train)\n",
    "best_rf.fit(X_train, y_train)\n",
    "\n",
    "# Predict\n",
    "lr_pred = lr_model.predict(X_test)\n",
    "rf_pred = best_rf.predict(X_test)\n",
    "  \n",
    "    # Evaluate\n",
    "print(\"Model Performance on Test Set (Standardized Scale):\")\n",
    "print(f\"Linear Regression - R2: {r2_score(y_test, lr_pred):.4f}, MSE: {mean_squared_error(y_test, lr_pred):.4f}\")\n",
    "print(f\"Random Forest - R2: {r2_score(y_test, rf_pred):.4f}, MSE: {mean_squared_error(y_test, rf_pred):.4f}\")"
   ]
  },
  {
   "cell_type": "code",
   "execution_count": 45,
   "id": "f14a07fe",
   "metadata": {},
   "outputs": [
    {
     "name": "stdout",
     "output_type": "stream",
     "text": [
      "\n",
      "Linear Regression Evaluation (Standardized Scale):\n",
      "R2 Score: 0.0051\n",
      "Mean Squared Error: 0.0567\n",
      "Mean Absolute Error: 0.0707\n",
      "\n",
      "Linear Regression Evaluation (Original Quantity Scale):\n",
      "R2 Score: 0.0051\n",
      "Mean Squared Error: 1822.7474\n",
      "Mean Absolute Error: 12.6724\n",
      "\n",
      "Random Forest Evaluation (Standardized Scale):\n",
      "R2 Score: 0.2459\n",
      "Mean Squared Error: 0.0430\n",
      "Mean Absolute Error: 0.0497\n",
      "\n",
      "Random Forest Evaluation (Original Quantity Scale):\n",
      "R2 Score: 0.2459\n",
      "Mean Squared Error: 1381.6029\n",
      "Mean Absolute Error: 8.9134\n"
     ]
    }
   ],
   "source": [
    "#Evaluation fuction\n",
    "from sklearn.metrics import r2_score, mean_squared_error, mean_absolute_error\n",
    "import numpy as np\n",
    "\n",
    "def evaluate_model(name, model, y_pred, y_test):\n",
    "    # Standardized scale evaluation\n",
    "    print(f\"\\n{name} Evaluation (Standardized Scale):\")\n",
    "    print(f\"R2 Score: {r2_score(y_test, y_pred):.4f}\")\n",
    "    print(f\"Mean Squared Error: {mean_squared_error(y_test, y_pred):.4f}\")\n",
    "    print(f\"Mean Absolute Error: {mean_absolute_error(y_test, y_pred):.4f}\")\n",
    "\n",
    "    # Original Quantity scale evaluation\n",
    "    y_test_original = scaler.inverse_transform(np.c_[np.zeros_like(y_test), y_test])[:, 1]\n",
    "    y_pred_original = scaler.inverse_transform(np.c_[np.zeros_like(y_pred), y_pred])[:, 1]\n",
    "    print(f\"\\n{name} Evaluation (Original Quantity Scale):\")\n",
    "    print(f\"R2 Score: {r2_score(y_test_original, y_pred_original):.4f}\")\n",
    "    print(f\"Mean Squared Error: {mean_squared_error(y_test_original, y_pred_original):.4f}\")\n",
    "    print(f\"Mean Absolute Error: {mean_absolute_error(y_test_original, y_pred_original):.4f}\")\n",
    "\n",
    "# Evaluate models\n",
    "evaluate_model(\"Linear Regression\", lr_model, lr_pred, y_test)\n",
    "evaluate_model(\"Random Forest\", best_rf, rf_pred, y_test)"
   ]
  },
  {
   "cell_type": "code",
   "execution_count": 48,
   "id": "09da7b85",
   "metadata": {},
   "outputs": [
    {
     "name": "stdout",
     "output_type": "stream",
     "text": [
      "\n",
      "Cross-Validation R2 Scores (Standardized Scale):\n",
      "Linear Regression: 0.0078 (±0.0057)\n",
      "Random Forest: 0.1508 (±0.0295)\n",
      "\n",
      "Final Selected Model: Random Forest\n",
      "\n",
      "Random Forest Performance on Sample (Original Quantity Scale):\n",
      "R2 Score: 0.2461\n",
      "Mean Squared Error: 1237.0046\n",
      "Mean Absolute Error: 8.8018\n"
     ]
    }
   ],
   "source": [
    "from sklearn.model_selection import KFold, cross_val_score\n",
    "from sklearn.metrics import r2_score, mean_squared_error, mean_absolute_error\n",
    "import pandas as pd\n",
    "import numpy as np\n",
    "\n",
    "# Subsample data for faster cross-validation\n",
    "sample_frac = 0.1\n",
    "Xy_sample = pd.concat([X, y], axis=1).sample(frac=sample_frac, random_state=42)\n",
    "X_sample = Xy_sample.drop(columns=y.name)\n",
    "y_sample = Xy_sample[y.name]\n",
    "\n",
    "# Cross-validation setup\n",
    "cv = KFold(n_splits=5, shuffle=True, random_state=42)\n",
    "\n",
    "# Cross-validation scores\n",
    "lr_cv_r2 = cross_val_score(lr_model, X_sample, y_sample, cv=cv, scoring='r2', n_jobs=-1)\n",
    "rf_cv_r2 = cross_val_score(best_rf, X_sample, y_sample, cv=cv, scoring='r2', n_jobs=-1)\n",
    "\n",
    "print(\"\\nCross-Validation R2 Scores (Standardized Scale):\")\n",
    "print(f\"Linear Regression: {lr_cv_r2.mean():.4f} (±{lr_cv_r2.std():.4f})\")\n",
    "print(f\"Random Forest: {rf_cv_r2.mean():.4f} (±{rf_cv_r2.std():.4f})\")\n",
    "\n",
    "# Final model selection\n",
    "cv_scores = {\n",
    "    'Linear Regression': lr_cv_r2.mean(),\n",
    "    'Random Forest': rf_cv_r2.mean(),\n",
    "}\n",
    "\n",
    "final_model_name = max(cv_scores, key=cv_scores.get)\n",
    "print(\"\\nFinal Selected Model:\", final_model_name)\n",
    "\n",
    "# Evaluate final model in original Quantity scale\n",
    "final_model = {'Linear Regression': lr_model, 'Random Forest': best_rf}[final_model_name]\n",
    "y_pred = final_model.predict(X_sample)\n",
    "y_sample_original = scaler.inverse_transform(np.c_[np.zeros_like(y_sample), y_sample])[:, 1]\n",
    "y_pred_original = scaler.inverse_transform(np.c_[np.zeros_like(y_pred), y_pred])[:, 1]\n",
    "\n",
    "print(f\"\\n{final_model_name} Performance on Sample (Original Quantity Scale):\")\n",
    "print(f\"R2 Score: {r2_score(y_sample_original, y_pred_original):.4f}\")\n",
    "print(f\"Mean Squared Error: {mean_squared_error(y_sample_original, y_pred_original):.4f}\")\n",
    "print(f\"Mean Absolute Error: {mean_absolute_error(y_sample_original, y_pred_original):.4f}\")\n"
   ]
  }
 ],
 "metadata": {
  "kernelspec": {
   "display_name": ".venv",
   "language": "python",
   "name": "python3"
  },
  "language_info": {
   "codemirror_mode": {
    "name": "ipython",
    "version": 3
   },
   "file_extension": ".py",
   "mimetype": "text/x-python",
   "name": "python",
   "nbconvert_exporter": "python",
   "pygments_lexer": "ipython3",
   "version": "3.13.3"
  }
 },
 "nbformat": 4,
 "nbformat_minor": 5
}
